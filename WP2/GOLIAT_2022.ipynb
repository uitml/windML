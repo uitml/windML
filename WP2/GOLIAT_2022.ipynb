{
 "cells": [
  {
   "cell_type": "markdown",
   "id": "75ec97c8",
   "metadata": {},
   "source": [
    "# Comparison of wind speed at Goliat 2022\n",
    "This is a comparison between the data retrieved from seklima and NORA3 at Goliat (SN76956) for year 2022"
   ]
  },
  {
   "cell_type": "code",
   "execution_count": 2,
   "id": "dfd4a545",
   "metadata": {},
   "outputs": [],
   "source": [
    "import netCDF4 as nc\n",
    "import numpy as np"
   ]
  },
  {
   "cell_type": "markdown",
   "id": "2b1e1360",
   "metadata": {},
   "source": [
    "## Load in files"
   ]
  },
  {
   "cell_type": "code",
   "execution_count": 3,
   "id": "e7770ab4",
   "metadata": {},
   "outputs": [],
   "source": [
    "filename = \"C:/Users/Ida/weather_data_2022_Goliat/NORA3_wind_50m_weather_data_GOLIAT_2022.nc\"\n",
    "nora_nc = nc.Dataset(filename)\n",
    "\n",
    "filename2 = \"C:/Users/Ida/weather_data_2022_Goliat/seklima_weather_data_station_GOLIAT_2022\"\n",
    "obs_nc = nc.Dataset(filename2)"
   ]
  },
  {
   "cell_type": "markdown",
   "id": "d68034dd",
   "metadata": {},
   "source": [
    "## Convert timestamps"
   ]
  },
  {
   "cell_type": "code",
   "execution_count": 4,
   "id": "b1ca6cd1",
   "metadata": {},
   "outputs": [
    {
     "name": "stdout",
     "output_type": "stream",
     "text": [
      "2022-01-01 00:00:00 2022-12-31 23:40:00\n",
      "26027\n"
     ]
    }
   ],
   "source": [
    "# Observations\n",
    "\n",
    "# covert timestamps into nice readable dates\n",
    "import datetime as dt\n",
    "from datetime import date, timedelta\n",
    "\n",
    "time = obs_nc.variables[\"time\"][:]\n",
    "\n",
    "ts = np.linspace(0,len(time)-1,len(time))\n",
    "\n",
    "nice_time_obs = []\n",
    "\n",
    "for i in range(0,len(ts)):\n",
    "    t = dt.datetime.utcfromtimestamp(time[i]/10**9)\n",
    "    nice_time_obs.append(t)\n",
    "    \n",
    "print(nice_time_obs[0], nice_time_obs[-1]) # check that start and end date/time is correct \n",
    "print(len(nice_time_obs))"
   ]
  },
  {
   "cell_type": "code",
   "execution_count": 5,
   "id": "e501a78d",
   "metadata": {},
   "outputs": [
    {
     "name": "stdout",
     "output_type": "stream",
     "text": [
      "2022-01-01 00:00:00 2022-12-31 23:00:00\n",
      "8760\n"
     ]
    }
   ],
   "source": [
    "# NORA3\n",
    "\n",
    "# covert timestamps into nice readable dates\n",
    "\n",
    "time = nora_nc.variables[\"time\"][:]\n",
    "\n",
    "ts = np.linspace(0,len(time)-1,len(time))\n",
    "\n",
    "nice_time_N = []\n",
    "\n",
    "\n",
    "for i in range(0,len(ts)):\n",
    "    t = dt.datetime.utcfromtimestamp(time[i])\n",
    "    nice_time_N.append(t)\n",
    "\n",
    "print(nice_time_N[0], nice_time_N[-1]) # check that start and end date/time is correct  \n",
    "print(len(nice_time_N))"
   ]
  },
  {
   "cell_type": "markdown",
   "id": "c2782c65",
   "metadata": {},
   "source": [
    "## Filter whole hours from observation data"
   ]
  },
  {
   "cell_type": "code",
   "execution_count": 6,
   "id": "9adb2f81",
   "metadata": {},
   "outputs": [],
   "source": [
    "# Load in variables from observations\n",
    "wind_speed_obs = obs_nc.variables[\"wind_speed\"][:]"
   ]
  },
  {
   "cell_type": "code",
   "execution_count": 7,
   "id": "4e63cbc5",
   "metadata": {},
   "outputs": [
    {
     "name": "stdout",
     "output_type": "stream",
     "text": [
      "8717\n"
     ]
    }
   ],
   "source": [
    "# NORA3 time is in whole hours, retrieve only whole hours from observationdata\n",
    "# Observation data is every 20 min\n",
    "\n",
    "# Initialize a list to store the indexes with whole hours\n",
    "whole_hour_time = []\n",
    "whole_hour_wind_speed = []\n",
    "\n",
    "# Loop over each index\n",
    "for i in range(len(nice_time_obs)):\n",
    "\n",
    "    # Check if the hour is zero, indicating a whole hour\n",
    "    if nice_time_obs[i].minute == 0:\n",
    "        whole_hour_time.append(nice_time_obs[i])\n",
    "        whole_hour_wind_speed.append(wind_speed_obs[i])\n",
    "print(len(whole_hour_time))"
   ]
  },
  {
   "cell_type": "markdown",
   "id": "0cef9c55",
   "metadata": {},
   "source": [
    "## Find missing hours"
   ]
  },
  {
   "cell_type": "code",
   "execution_count": 8,
   "id": "191261d1",
   "metadata": {},
   "outputs": [
    {
     "name": "stdout",
     "output_type": "stream",
     "text": [
      "43\n",
      "2022-02-28 02:00:00\n",
      "2022-02-28 03:00:00\n",
      "2022-02-28 04:00:00\n",
      "2022-02-28 05:00:00\n",
      "2022-02-28 06:00:00\n",
      "2022-02-28 07:00:00\n",
      "2022-02-28 08:00:00\n",
      "2022-04-06 21:00:00\n",
      "2022-04-06 22:00:00\n",
      "2022-04-06 23:00:00\n",
      "2022-04-07 03:00:00\n",
      "2022-04-07 04:00:00\n",
      "2022-04-07 05:00:00\n",
      "2022-04-07 07:00:00\n",
      "2022-04-07 08:00:00\n",
      "2022-12-10 09:00:00\n",
      "2022-12-10 10:00:00\n",
      "2022-12-10 11:00:00\n",
      "2022-12-10 12:00:00\n",
      "2022-12-10 13:00:00\n",
      "2022-12-10 14:00:00\n",
      "2022-12-10 15:00:00\n",
      "2022-12-10 16:00:00\n",
      "2022-12-10 17:00:00\n",
      "2022-12-10 18:00:00\n",
      "2022-12-10 19:00:00\n",
      "2022-12-10 20:00:00\n",
      "2022-12-10 21:00:00\n",
      "2022-12-10 22:00:00\n",
      "2022-12-10 23:00:00\n",
      "2022-12-11 00:00:00\n",
      "2022-12-11 01:00:00\n",
      "2022-12-11 02:00:00\n",
      "2022-12-11 03:00:00\n",
      "2022-12-11 04:00:00\n",
      "2022-12-11 05:00:00\n",
      "2022-12-11 06:00:00\n",
      "2022-12-11 07:00:00\n",
      "2022-12-11 08:00:00\n",
      "2022-12-11 09:00:00\n",
      "2022-12-11 10:00:00\n",
      "2022-12-11 11:00:00\n",
      "2022-12-11 12:00:00\n"
     ]
    }
   ],
   "source": [
    "\"\"\"\n",
    "Script to locate hours with missing data from OBSERVATION\n",
    "\"\"\"\n",
    "\n",
    "def generate_all_hours_in_year(year):\n",
    "    # Create a list of all hours in the given year\n",
    "    start_date = dt.datetime(year, 1, 1, 0, 0)\n",
    "    end_date = dt.datetime(year + 1, 1, 1, 0, 0)\n",
    "    delta = dt.timedelta(hours=1)\n",
    "\n",
    "    current_date = start_date\n",
    "    all_hours_in_year = []\n",
    "\n",
    "    while current_date < end_date:\n",
    "        all_hours_in_year.append(current_date)\n",
    "        current_date += delta\n",
    "\n",
    "    return all_hours_in_year\n",
    "\n",
    "def find_missing_hours(dates_with_hours, all_hours_in_year):\n",
    "    # Find missing hours by comparing the two lists\n",
    "    missing_hours = [hour for hour in all_hours_in_year if hour not in dates_with_hours]\n",
    "    return missing_hours\n",
    "\n",
    "\n",
    "# Assuming you have a list of dates with hours for a given year (dates_with_hours)\n",
    "year = 2022  # Change this to the desired year\n",
    "\n",
    "# Generate all hours in the given year\n",
    "all_hours_in_year = generate_all_hours_in_year(year)\n",
    "\n",
    "# Find missing hours from \"whole_hour_time\"\n",
    "missing_hours = find_missing_hours(whole_hour_time, all_hours_in_year)\n",
    "\n",
    "\n",
    "\n",
    "# print amount of missing hours\n",
    "print(len(missing_hours))\n",
    "\n",
    "# Print dates with missing hours\n",
    "for missing_hour in missing_hours:\n",
    "       print(missing_hour)\n",
    "    \n"
   ]
  },
  {
   "cell_type": "markdown",
   "id": "f82a8204",
   "metadata": {},
   "source": [
    "## Remove missing hours from NORA3 data"
   ]
  },
  {
   "cell_type": "code",
   "execution_count": 9,
   "id": "d19cb545",
   "metadata": {},
   "outputs": [],
   "source": [
    "# Remove the hours with missing data from observation in NORA3 data as well \n",
    "\n",
    "wind_speed_N = obs_nc.variables[\"wind_speed\"][:]\n",
    "\n",
    "def remove_missing_hours_from_list(hours_list):\n",
    "    # removes missing hours\n",
    "    cleaned_list = [hour for hour in hours_list if hour not in missing_hours]\n",
    "    return cleaned_list\n",
    "    \n",
    "# removes wind speeds corresponding to the missing hour\n",
    "cleaned_wind_speeds = []\n",
    "\n",
    "for date, wind_speed in zip(nice_time_N, wind_speed_N):\n",
    "    if date not in missing_hours:\n",
    "        cleaned_wind_speeds.append(wind_speed)\n",
    "    \n",
    "\n",
    "\n",
    "cleaned_time = remove_missing_hours_from_list(nice_time_N)"
   ]
  },
  {
   "cell_type": "code",
   "execution_count": 10,
   "id": "f6619632",
   "metadata": {},
   "outputs": [
    {
     "name": "stdout",
     "output_type": "stream",
     "text": [
      "8717 8717\n"
     ]
    }
   ],
   "source": [
    "# Check lenght to be correct\n",
    "print(len(cleaned_wind_speeds), len(cleaned_time))"
   ]
  },
  {
   "cell_type": "markdown",
   "id": "8a6e5198",
   "metadata": {},
   "source": [
    "## Compare wind speed"
   ]
  },
  {
   "cell_type": "code",
   "execution_count": 11,
   "id": "f99d3fd2",
   "metadata": {},
   "outputs": [
    {
     "name": "stdout",
     "output_type": "stream",
     "text": [
      "Nora3: 8.972261099001928 m/s Obs(raw): 7.089606516003246 m/s\n",
      "-26.55513502405244 %\n"
     ]
    }
   ],
   "source": [
    "# Goliat at height 46m and NORA3 extracted at 50m\n",
    "\n",
    "# Compare mean with raw data, no extrapolation \n",
    "\n",
    "ave_wind_OBS = sum(whole_hour_wind_speed)/len(whole_hour_wind_speed)\n",
    "ave_wind_NORA = sum(cleaned_wind_speeds)/len(cleaned_wind_speeds)\n",
    "\n",
    "\n",
    "print(f'Nora3: {ave_wind_NORA} m/s Obs(raw): {ave_wind_OBS} m/s')\n",
    "\n",
    "diff = ((ave_wind_OBS-ave_wind_NORA) / ave_wind_OBS ) * 100\n",
    "\n",
    "print(f'{diff} %')"
   ]
  },
  {
   "cell_type": "code",
   "execution_count": 12,
   "id": "c5b1d2c4",
   "metadata": {},
   "outputs": [
    {
     "name": "stdout",
     "output_type": "stream",
     "text": [
      "Nora3(10m): 7.396487077812552 Obs: 7.089606516003246\n",
      "-4.328597942870173 %\n"
     ]
    }
   ],
   "source": [
    "# Goliat at height 46m (wind is adjusted to 10m) and NORA3 extracted at 50m\n",
    "\n",
    "# extrapolate NORA3 data to 10m\n",
    "\n",
    "z1 = 50 # from height (m)\n",
    "z2 = 10 # to height (m)\n",
    "\n",
    "wind_10 = []\n",
    "a = 0.12\n",
    "\n",
    "\n",
    "for u in cleaned_wind_speeds:\n",
    "    u_2 = u*(z2/z1)**a\n",
    "    wind_10.append(u_2)\n",
    "    \n",
    "ave_wind_10N = sum(wind_10)/len(wind_10)\n",
    "\n",
    "\n",
    "print(f'Nora3(10m): {ave_wind_10N} Obs: {ave_wind_OBS}')\n",
    "\n",
    "diff = ((ave_wind_OBS-ave_wind_10N) / ave_wind_OBS ) * 100\n",
    "print(f'{diff} %')"
   ]
  },
  {
   "cell_type": "markdown",
   "id": "9ca31952",
   "metadata": {},
   "source": [
    "## Histogram"
   ]
  },
  {
   "cell_type": "code",
   "execution_count": 35,
   "id": "839c05f1",
   "metadata": {},
   "outputs": [
    {
     "data": {
      "image/png": "[encoded data removed]",
      "text/plain": [
       "<Figure size 640x480 with 1 Axes>"
      ]
     },
     "metadata": {},
     "output_type": "display_data"
    },
    {
     "data": {
      "image/png": "[encoded data removed]",
      "text/plain": [
       "<Figure size 640x480 with 1 Axes>"
      ]
     },
     "metadata": {},
     "output_type": "display_data"
    }
   ],
   "source": [
    "#install the seaborn package (if not already installed) by removing the \"#\" and running the code below \n",
    "#!pip3 install seaborn\n",
    "\n",
    "import seaborn as sns\n",
    "import matplotlib.pylab as plt\n",
    "\n",
    "sns.histplot(data = obs_nc, x = whole_hour_wind_speed, kde = True, bins = 26)\n",
    "plt.xlabel(\"Speed (m/s)\")\n",
    "plt.ylabel(\"Number of counts (h)\")\n",
    "plt.title(\"Weibull distribution of OBS-wind speed 10masl at Goliat\")\n",
    "plt.show()\n",
    "\n",
    "sns.histplot(data = nora_nc, x = cleaned_wind_speeds, kde = True, bins = 26)\n",
    "plt.xlabel(\"Speed (m/s)\")\n",
    "plt.ylabel(\"Number of counts (h)\")\n",
    "plt.title(\"Weibull distribution of NORA3-wind speed 10mals at Goliat\")\n",
    "plt.show()"
   ]
  },
  {
   "cell_type": "markdown",
   "id": "bbfd52b3",
   "metadata": {},
   "source": [
    "## High and low speeds\n",
    "This is used to check the amount of measurement values under a certain value for both observation and NORA3 data "
   ]
  },
  {
   "cell_type": "code",
   "execution_count": 22,
   "id": "7f1b80e7",
   "metadata": {},
   "outputs": [
    {
     "name": "stdout",
     "output_type": "stream",
     "text": [
      "Measurments under value: 3 m/s Obs: 1353 NORA3: 528\n"
     ]
    }
   ],
   "source": [
    "# check index for measurements under a certain value. \n",
    "\n",
    "def get_indexes_with_value(input_list, value):\n",
    "    return [i for i, item in enumerate(input_list) if item < value] # Change < to > for over a certain value\n",
    "\n",
    "# Example usage\n",
    "\n",
    "target_value = 3  # return index if value is under target_value\n",
    "\n",
    "result_obs = get_indexes_with_value(whole_hour_wind_speed, target_value)\n",
    "result_N = get_indexes_with_value(cleaned_wind_speeds, target_value)\n",
    "\n",
    "#print(result_obs, result_N)\n",
    "print(f'Measurments under value: {target_value} m/s Obs: {len(result_obs)} NORA3: {len(result_N)}')"
   ]
  }
 ],
 "metadata": {
  "kernelspec": {
   "display_name": "Python 3 (ipykernel)",
   "language": "python",
   "name": "python3"
  },
  "language_info": {
   "codemirror_mode": {
    "name": "ipython",
    "version": 3
   },
   "file_extension": ".py",
   "mimetype": "text/x-python",
   "name": "python",
   "nbconvert_exporter": "python",
   "pygments_lexer": "ipython3",
   "version": "3.10.10"
  }
 },
 "nbformat": 4,
 "nbformat_minor": 5
}
